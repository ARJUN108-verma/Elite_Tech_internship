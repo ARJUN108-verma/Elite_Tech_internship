{
  "nbformat": 4,
  "nbformat_minor": 0,
  "metadata": {
    "colab": {
      "provenance": [],
      "authorship_tag": "ABX9TyMFWMm32Zhb2LNB4f8Hijph",
      "include_colab_link": true
    },
    "kernelspec": {
      "name": "python3",
      "display_name": "Python 3"
    },
    "language_info": {
      "name": "python"
    }
  },
  "cells": [
    {
      "cell_type": "markdown",
      "metadata": {
        "id": "view-in-github",
        "colab_type": "text"
      },
      "source": [
        "<a href=\"https://colab.research.google.com/github/ARJUN108-verma/Elite_Tech_internship/blob/main/TEXT_SUMMARIZATION_TOOL.ipynb\" target=\"_parent\"><img src=\"https://colab.research.google.com/assets/colab-badge.svg\" alt=\"Open In Colab\"/></a>"
      ]
    },
    {
      "cell_type": "markdown",
      "source": [
        "TEXT SUMMARIZATION TOOL"
      ],
      "metadata": {
        "id": "5Nc56keg3dzd"
      }
    },
    {
      "cell_type": "code",
      "execution_count": 1,
      "metadata": {
        "id": "SysJb9J13YfM"
      },
      "outputs": [],
      "source": [
        "import nltk\n",
        "from nltk.corpus import stopwords\n",
        "from nltk.tokenize import word_tokenize, sent_tokenize\n",
        "from nltk.probability import FreqDist\n",
        "from collections import defaultdict\n",
        "import string"
      ]
    },
    {
      "cell_type": "code",
      "source": [
        "# Download required NLTK data\n",
        "nltk.download('punkt')\n",
        "nltk.download('stopwords')"
      ],
      "metadata": {
        "colab": {
          "base_uri": "https://localhost:8080/"
        },
        "id": "rL213zWH33Vu",
        "outputId": "d392cb3e-3473-4c5a-97a0-6a9eca193302"
      },
      "execution_count": 2,
      "outputs": [
        {
          "output_type": "stream",
          "name": "stderr",
          "text": [
            "[nltk_data] Downloading package punkt to /root/nltk_data...\n",
            "[nltk_data]   Unzipping tokenizers/punkt.zip.\n",
            "[nltk_data] Downloading package stopwords to /root/nltk_data...\n",
            "[nltk_data]   Unzipping corpora/stopwords.zip.\n"
          ]
        },
        {
          "output_type": "execute_result",
          "data": {
            "text/plain": [
              "True"
            ]
          },
          "metadata": {},
          "execution_count": 2
        }
      ]
    },
    {
      "cell_type": "code",
      "source": [
        "class TextSummarizer:\n",
        "    def __init__(self):\n",
        "        self.stop_words = set(stopwords.words('english') + list(string.punctuation))\n",
        "\n",
        "    def preprocess_text(self, text):\n",
        "        \"\"\"Clean and prepare the text for processing\"\"\"\n",
        "        # Tokenize into sentences\n",
        "        sentences = sent_tokenize(text)\n",
        "\n",
        "        # Tokenize words for each sentence\n",
        "        word_sentences = [word_tokenize(sentence.lower()) for sentence in sentences]\n",
        "\n",
        "        # Remove stopwords and punctuation\n",
        "        filtered_sentences = []\n",
        "        for words in word_sentences:\n",
        "            filtered_words = [word for word in words if word not in self.stop_words]\n",
        "            filtered_sentences.append(filtered_words)\n",
        "\n",
        "        return sentences, filtered_sentences\n",
        "\n",
        "    def calculate_sentence_scores(self, filtered_sentences):\n",
        "        \"\"\"Calculate importance scores for each sentence\"\"\"\n",
        "        # Flatten all words to calculate word frequencies\n",
        "        words = [word for sentence in filtered_sentences for word in sentence]\n",
        "        word_frequencies = FreqDist(words)\n",
        "\n",
        "        # Calculate sentence scores based on word frequencies\n",
        "        sentence_scores = defaultdict(int)\n",
        "        for i, sentence in enumerate(filtered_sentences):\n",
        "            for word in sentence:\n",
        "                if word in word_frequencies:\n",
        "                    sentence_scores[i] += word_frequencies[word]\n",
        "\n",
        "        return sentence_scores\n",
        "\n",
        "    def generate_summary(self, text, summary_length=3):\n",
        "        \"\"\"Generate a summary of the input text\"\"\"\n",
        "        # Preprocess the text\n",
        "        original_sentences, filtered_sentences = self.preprocess_text(text)\n",
        "\n",
        "        # Calculate sentence importance scores\n",
        "        sentence_scores = self.calculate_sentence_scores(filtered_sentences)\n",
        "\n",
        "        # Select top N sentences for the summary\n",
        "        ranked_sentences = sorted(\n",
        "            sentence_scores.items(),\n",
        "            key=lambda x: x[1],\n",
        "            reverse=True\n",
        "        )[:summary_length]\n",
        "\n",
        "        # Sort selected sentences by their original order\n",
        "        summary_sentences = [original_sentences[i] for i, _ in sorted(ranked_sentences)]\n",
        "\n",
        "        # Combine sentences into summary\n",
        "        summary = ' '.join(summary_sentences)\n",
        "        return summary\n"
      ],
      "metadata": {
        "id": "QgQu6Qq54BKF"
      },
      "execution_count": 3,
      "outputs": []
    },
    {
      "cell_type": "code",
      "source": [
        "def main():\n",
        "    print(\"Text Summarization Tool\")\n",
        "    print(\"Enter/Paste your content (press Enter then Ctrl+D to finish):\")\n",
        "\n",
        "    # Read multiline input\n",
        "    contents = []\n",
        "    while True:\n",
        "        try:\n",
        "            line = input()\n",
        "        except EOFError:\n",
        "            break\n",
        "        contents.append(line)\n",
        "\n",
        "    text = '\\n'.join(contents)\n",
        "\n",
        "    if not text.strip():\n",
        "        print(\"No input provided. Exiting.\")\n",
        "        return\n",
        "\n",
        "    summarizer = TextSummarizer()\n",
        "\n",
        "    while True:\n",
        "        try:\n",
        "            summary_length = int(input(\"\\nEnter number of sentences for summary (default 3): \") or 3)\n",
        "            break\n",
        "        except ValueError:\n",
        "            print(\"Please enter a valid number.\")\n",
        "\n",
        "    print(\"\\nGenerating summary...\\n\")\n",
        "    summary = summarizer.generate_summary(text, summary_length)\n",
        "\n",
        "    print(\"=== Summary ===\")\n",
        "    print(summary)\n",
        "\n",
        "    # Calculate compression ratio\n",
        "    original_length = len(sent_tokenize(text))\n",
        "    if original_length > 0:\n",
        "        compression = (1 - (summary_length / original_length)) * 100\n",
        "        print(f\"\\nSummary reduced text by {compression:.1f}% \"\n",
        "              f\"({original_length} sentences → {summary_length} sentences)\")"
      ],
      "metadata": {
        "id": "mQTgdvSO4OQt"
      },
      "execution_count": 4,
      "outputs": []
    },
    {
      "cell_type": "code",
      "source": [
        "if __name__ == \"__main__\":\n",
        "    main()"
      ],
      "metadata": {
        "colab": {
          "base_uri": "https://localhost:8080/"
        },
        "id": "tqI-oZCr4Wfk",
        "outputId": "87a13423-07db-4058-d29a-7382e0524e8d"
      },
      "execution_count": null,
      "outputs": [
        {
          "name": "stdout",
          "output_type": "stream",
          "text": [
            "Text Summarization Tool\n",
            "Enter/Paste your content (press Enter then Ctrl+D to finish):\n",
            "Climate Change: Causes and Consequences  The Earth's climate has changed throughout history. Just in the last 650,000 years, there have been seven cycles of glacial advance and retreat, with the abrupt end of the last ice age about 11,700 years ago marking the beginning of the modern climate era — and of human civilization. Most of these climate changes are attributed to very small variations in Earth's orbit that change the amount of solar energy our planet receives.  However, the current warming trend is of particular significance because it is unequivocally the result of human activity since the mid-20th century and proceeding at a rate that is unprecedented over millennia. The planet's average surface temperature has risen about 1.18 degrees Celsius since the late 19th century, a change driven largely by increased carbon dioxide emissions into the atmosphere and other human activities.  The industrial activities that our modern civilization depends upon have raised atmospheric carbon dioxide levels from 280 parts per million to 414 parts per million in the last 150 years. The Intergovernmental Panel on Climate Change (IPCC), which includes more than 1,300 scientists from the United States and other countries, forecasts a temperature rise of 2.5 to 10 degrees Fahrenheit over the next century.  According to the IPCC, the extent of climate change effects on individual regions will vary over time and with the ability of different societal and environmental systems to mitigate or adapt to change. The potential future effects of global climate change include more frequent wildfires, longer periods of drought in some regions, and an increase in the intensity of tropical storms. Rising temperatures will also lead to a rise in sea levels due to melting glaciers and ice sheets, threatening coastal communities and island nations.  Climate change is already impacting ecosystems and biodiversity. Many species are shifting their geographic ranges in response to changing conditions, and some are facing extinction. Coral reefs, which are highly sensitive to changes in water temperature, are experiencing widespread bleaching and mortality. The changes in climate are also affecting agriculture, with some regions experiencing reduced crop yields due to higher temperatures and changing precipitation patterns.\n"
          ]
        }
      ]
    }
  ]
}